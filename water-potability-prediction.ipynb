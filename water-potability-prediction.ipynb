{
 "cells": [
  {
   "cell_type": "code",
   "execution_count": 1,
   "metadata": {
    "id": "ubn_Wdf4HyzZ"
   },
   "outputs": [],
   "source": [
    "import pandas as pd\n",
    "import numpy as np\n",
    "from sklearn.model_selection import train_test_split\n",
    "from sklearn.preprocessing import LabelEncoder, StandardScaler\n",
    "from sklearn.tree import DecisionTreeClassifier\n",
    "import matplotlib.pyplot as plt"
   ]
  },
  {
   "cell_type": "code",
   "execution_count": 2,
   "metadata": {
    "id": "oUMd-8bBIQoG"
   },
   "outputs": [],
   "source": [
    "df = pd.read_csv(\"train_dataset.csv\")"
   ]
  },
  {
   "cell_type": "markdown",
   "metadata": {
    "id": "DyEKd-EEJ47p"
   },
   "source": [
    "# **Basic EDA**"
   ]
  },
  {
   "cell_type": "code",
   "execution_count": 3,
   "metadata": {
    "colab": {
     "base_uri": "https://localhost:8080/",
     "height": 206
    },
    "id": "CA5SIP8JJ2Vp",
    "outputId": "e7e1deeb-da07-4d3f-8eed-acb3ad8cc6ea"
   },
   "outputs": [
    {
     "data": {
      "text/html": [
       "<div>\n",
       "<style scoped>\n",
       "    .dataframe tbody tr th:only-of-type {\n",
       "        vertical-align: middle;\n",
       "    }\n",
       "\n",
       "    .dataframe tbody tr th {\n",
       "        vertical-align: top;\n",
       "    }\n",
       "\n",
       "    .dataframe thead th {\n",
       "        text-align: right;\n",
       "    }\n",
       "</style>\n",
       "<table border=\"1\" class=\"dataframe\">\n",
       "  <thead>\n",
       "    <tr style=\"text-align: right;\">\n",
       "      <th></th>\n",
       "      <th>ph</th>\n",
       "      <th>Hardness</th>\n",
       "      <th>Solids</th>\n",
       "      <th>Chloramines</th>\n",
       "      <th>Sulfate</th>\n",
       "      <th>Conductivity</th>\n",
       "      <th>Organic_carbon</th>\n",
       "      <th>Trihalomethanes</th>\n",
       "      <th>Turbidity</th>\n",
       "      <th>Potability</th>\n",
       "    </tr>\n",
       "  </thead>\n",
       "  <tbody>\n",
       "    <tr>\n",
       "      <th>0</th>\n",
       "      <td>7.080795</td>\n",
       "      <td>219.674262</td>\n",
       "      <td>22210.613083</td>\n",
       "      <td>5.875041</td>\n",
       "      <td>333.775777</td>\n",
       "      <td>398.517703</td>\n",
       "      <td>11.502316</td>\n",
       "      <td>112.412210</td>\n",
       "      <td>2.994259</td>\n",
       "      <td>0</td>\n",
       "    </tr>\n",
       "    <tr>\n",
       "      <th>1</th>\n",
       "      <td>6.783888</td>\n",
       "      <td>193.653581</td>\n",
       "      <td>13677.106441</td>\n",
       "      <td>5.171454</td>\n",
       "      <td>323.728663</td>\n",
       "      <td>477.854687</td>\n",
       "      <td>15.056064</td>\n",
       "      <td>66.396293</td>\n",
       "      <td>3.250022</td>\n",
       "      <td>0</td>\n",
       "    </tr>\n",
       "    <tr>\n",
       "      <th>2</th>\n",
       "      <td>6.010618</td>\n",
       "      <td>184.558582</td>\n",
       "      <td>15940.573271</td>\n",
       "      <td>8.165222</td>\n",
       "      <td>421.486089</td>\n",
       "      <td>314.529813</td>\n",
       "      <td>20.314617</td>\n",
       "      <td>83.707938</td>\n",
       "      <td>4.867287</td>\n",
       "      <td>1</td>\n",
       "    </tr>\n",
       "    <tr>\n",
       "      <th>3</th>\n",
       "      <td>8.097454</td>\n",
       "      <td>218.992436</td>\n",
       "      <td>18112.284447</td>\n",
       "      <td>6.196947</td>\n",
       "      <td>333.775777</td>\n",
       "      <td>376.569803</td>\n",
       "      <td>17.746264</td>\n",
       "      <td>59.909941</td>\n",
       "      <td>4.279082</td>\n",
       "      <td>1</td>\n",
       "    </tr>\n",
       "    <tr>\n",
       "      <th>4</th>\n",
       "      <td>8.072612</td>\n",
       "      <td>210.269780</td>\n",
       "      <td>16843.363927</td>\n",
       "      <td>8.793459</td>\n",
       "      <td>359.516169</td>\n",
       "      <td>559.167574</td>\n",
       "      <td>17.263576</td>\n",
       "      <td>68.738989</td>\n",
       "      <td>5.082206</td>\n",
       "      <td>0</td>\n",
       "    </tr>\n",
       "  </tbody>\n",
       "</table>\n",
       "</div>"
      ],
      "text/plain": [
       "         ph    Hardness        Solids  Chloramines     Sulfate  Conductivity  \\\n",
       "0  7.080795  219.674262  22210.613083     5.875041  333.775777    398.517703   \n",
       "1  6.783888  193.653581  13677.106441     5.171454  323.728663    477.854687   \n",
       "2  6.010618  184.558582  15940.573271     8.165222  421.486089    314.529813   \n",
       "3  8.097454  218.992436  18112.284447     6.196947  333.775777    376.569803   \n",
       "4  8.072612  210.269780  16843.363927     8.793459  359.516169    559.167574   \n",
       "\n",
       "   Organic_carbon  Trihalomethanes  Turbidity  Potability  \n",
       "0       11.502316       112.412210   2.994259           0  \n",
       "1       15.056064        66.396293   3.250022           0  \n",
       "2       20.314617        83.707938   4.867287           1  \n",
       "3       17.746264        59.909941   4.279082           1  \n",
       "4       17.263576        68.738989   5.082206           0  "
      ]
     },
     "execution_count": 3,
     "metadata": {},
     "output_type": "execute_result"
    }
   ],
   "source": [
    "df.head()"
   ]
  },
  {
   "cell_type": "code",
   "execution_count": 4,
   "metadata": {
    "colab": {
     "base_uri": "https://localhost:8080/"
    },
    "id": "_qNCfd73Jp7E",
    "outputId": "3bde8bec-4451-433f-8b78-c7428b793258"
   },
   "outputs": [
    {
     "data": {
      "text/plain": [
       "(2293, 10)"
      ]
     },
     "execution_count": 4,
     "metadata": {},
     "output_type": "execute_result"
    }
   ],
   "source": [
    "df.shape"
   ]
  },
  {
   "cell_type": "code",
   "execution_count": 5,
   "metadata": {
    "colab": {
     "base_uri": "https://localhost:8080/",
     "height": 344
    },
    "id": "lMeTIbG3JmP6",
    "outputId": "cb879cd7-a5f5-47a0-d989-f531c8f18e08"
   },
   "outputs": [
    {
     "data": {
      "text/html": [
       "<div>\n",
       "<style scoped>\n",
       "    .dataframe tbody tr th:only-of-type {\n",
       "        vertical-align: middle;\n",
       "    }\n",
       "\n",
       "    .dataframe tbody tr th {\n",
       "        vertical-align: top;\n",
       "    }\n",
       "\n",
       "    .dataframe thead th {\n",
       "        text-align: right;\n",
       "    }\n",
       "</style>\n",
       "<table border=\"1\" class=\"dataframe\">\n",
       "  <thead>\n",
       "    <tr style=\"text-align: right;\">\n",
       "      <th></th>\n",
       "      <th>ph</th>\n",
       "      <th>Hardness</th>\n",
       "      <th>Solids</th>\n",
       "      <th>Chloramines</th>\n",
       "      <th>Sulfate</th>\n",
       "      <th>Conductivity</th>\n",
       "      <th>Organic_carbon</th>\n",
       "      <th>Trihalomethanes</th>\n",
       "      <th>Turbidity</th>\n",
       "      <th>Potability</th>\n",
       "    </tr>\n",
       "  </thead>\n",
       "  <tbody>\n",
       "    <tr>\n",
       "      <th>count</th>\n",
       "      <td>2293.000000</td>\n",
       "      <td>2293.000000</td>\n",
       "      <td>2293.000000</td>\n",
       "      <td>2293.000000</td>\n",
       "      <td>2293.000000</td>\n",
       "      <td>2293.000000</td>\n",
       "      <td>2293.000000</td>\n",
       "      <td>2293.000000</td>\n",
       "      <td>2293.000000</td>\n",
       "      <td>2293.000000</td>\n",
       "    </tr>\n",
       "    <tr>\n",
       "      <th>mean</th>\n",
       "      <td>7.082265</td>\n",
       "      <td>196.390335</td>\n",
       "      <td>22074.335334</td>\n",
       "      <td>7.132987</td>\n",
       "      <td>333.393347</td>\n",
       "      <td>425.455702</td>\n",
       "      <td>14.229174</td>\n",
       "      <td>66.499518</td>\n",
       "      <td>3.967153</td>\n",
       "      <td>0.390318</td>\n",
       "    </tr>\n",
       "    <tr>\n",
       "      <th>std</th>\n",
       "      <td>1.486029</td>\n",
       "      <td>32.460633</td>\n",
       "      <td>8668.693908</td>\n",
       "      <td>1.573879</td>\n",
       "      <td>36.116271</td>\n",
       "      <td>80.266652</td>\n",
       "      <td>3.341429</td>\n",
       "      <td>16.067742</td>\n",
       "      <td>0.788480</td>\n",
       "      <td>0.487928</td>\n",
       "    </tr>\n",
       "    <tr>\n",
       "      <th>min</th>\n",
       "      <td>0.000000</td>\n",
       "      <td>47.432000</td>\n",
       "      <td>320.942611</td>\n",
       "      <td>0.530351</td>\n",
       "      <td>180.206746</td>\n",
       "      <td>201.619737</td>\n",
       "      <td>2.200000</td>\n",
       "      <td>0.738000</td>\n",
       "      <td>1.450000</td>\n",
       "      <td>0.000000</td>\n",
       "    </tr>\n",
       "    <tr>\n",
       "      <th>25%</th>\n",
       "      <td>6.262799</td>\n",
       "      <td>176.753500</td>\n",
       "      <td>15825.182571</td>\n",
       "      <td>6.140033</td>\n",
       "      <td>316.552791</td>\n",
       "      <td>363.974060</td>\n",
       "      <td>12.015868</td>\n",
       "      <td>56.329076</td>\n",
       "      <td>3.440753</td>\n",
       "      <td>0.000000</td>\n",
       "    </tr>\n",
       "    <tr>\n",
       "      <th>50%</th>\n",
       "      <td>7.080795</td>\n",
       "      <td>196.833001</td>\n",
       "      <td>21153.322827</td>\n",
       "      <td>7.135063</td>\n",
       "      <td>333.775777</td>\n",
       "      <td>420.828362</td>\n",
       "      <td>14.151538</td>\n",
       "      <td>66.396293</td>\n",
       "      <td>3.947138</td>\n",
       "      <td>0.000000</td>\n",
       "    </tr>\n",
       "    <tr>\n",
       "      <th>75%</th>\n",
       "      <td>7.873272</td>\n",
       "      <td>216.441172</td>\n",
       "      <td>27345.174288</td>\n",
       "      <td>8.104498</td>\n",
       "      <td>349.985243</td>\n",
       "      <td>480.715208</td>\n",
       "      <td>16.450990</td>\n",
       "      <td>77.182622</td>\n",
       "      <td>4.503661</td>\n",
       "      <td>1.000000</td>\n",
       "    </tr>\n",
       "    <tr>\n",
       "      <th>max</th>\n",
       "      <td>14.000000</td>\n",
       "      <td>317.338124</td>\n",
       "      <td>56351.396304</td>\n",
       "      <td>13.043806</td>\n",
       "      <td>481.030642</td>\n",
       "      <td>753.342620</td>\n",
       "      <td>28.300000</td>\n",
       "      <td>124.000000</td>\n",
       "      <td>6.739000</td>\n",
       "      <td>1.000000</td>\n",
       "    </tr>\n",
       "  </tbody>\n",
       "</table>\n",
       "</div>"
      ],
      "text/plain": [
       "                ph     Hardness        Solids  Chloramines      Sulfate  \\\n",
       "count  2293.000000  2293.000000   2293.000000  2293.000000  2293.000000   \n",
       "mean      7.082265   196.390335  22074.335334     7.132987   333.393347   \n",
       "std       1.486029    32.460633   8668.693908     1.573879    36.116271   \n",
       "min       0.000000    47.432000    320.942611     0.530351   180.206746   \n",
       "25%       6.262799   176.753500  15825.182571     6.140033   316.552791   \n",
       "50%       7.080795   196.833001  21153.322827     7.135063   333.775777   \n",
       "75%       7.873272   216.441172  27345.174288     8.104498   349.985243   \n",
       "max      14.000000   317.338124  56351.396304    13.043806   481.030642   \n",
       "\n",
       "       Conductivity  Organic_carbon  Trihalomethanes    Turbidity   Potability  \n",
       "count   2293.000000     2293.000000      2293.000000  2293.000000  2293.000000  \n",
       "mean     425.455702       14.229174        66.499518     3.967153     0.390318  \n",
       "std       80.266652        3.341429        16.067742     0.788480     0.487928  \n",
       "min      201.619737        2.200000         0.738000     1.450000     0.000000  \n",
       "25%      363.974060       12.015868        56.329076     3.440753     0.000000  \n",
       "50%      420.828362       14.151538        66.396293     3.947138     0.000000  \n",
       "75%      480.715208       16.450990        77.182622     4.503661     1.000000  \n",
       "max      753.342620       28.300000       124.000000     6.739000     1.000000  "
      ]
     },
     "execution_count": 5,
     "metadata": {},
     "output_type": "execute_result"
    }
   ],
   "source": [
    "df.describe()"
   ]
  },
  {
   "cell_type": "code",
   "execution_count": 6,
   "metadata": {},
   "outputs": [
    {
     "data": {
      "text/plain": [
       "array([[<AxesSubplot:title={'center':'ph'}>,\n",
       "        <AxesSubplot:title={'center':'Hardness'}>,\n",
       "        <AxesSubplot:title={'center':'Solids'}>],\n",
       "       [<AxesSubplot:title={'center':'Chloramines'}>,\n",
       "        <AxesSubplot:title={'center':'Sulfate'}>,\n",
       "        <AxesSubplot:title={'center':'Conductivity'}>],\n",
       "       [<AxesSubplot:title={'center':'Organic_carbon'}>,\n",
       "        <AxesSubplot:title={'center':'Trihalomethanes'}>,\n",
       "        <AxesSubplot:title={'center':'Turbidity'}>],\n",
       "       [<AxesSubplot:title={'center':'Potability'}>, <AxesSubplot:>,\n",
       "        <AxesSubplot:>]], dtype=object)"
      ]
     },
     "execution_count": 6,
     "metadata": {},
     "output_type": "execute_result"
    },
    {
     "data": {
      "image/png": "[encoded data removed]",
      "text/plain": [
       "<Figure size 432x288 with 12 Axes>"
      ]
     },
     "metadata": {
      "needs_background": "light"
     },
     "output_type": "display_data"
    }
   ],
   "source": [
    "df.hist()"
   ]
  },
  {
   "cell_type": "code",
   "execution_count": 7,
   "metadata": {
    "colab": {
     "base_uri": "https://localhost:8080/"
    },
    "id": "XOuIjfVNJi8z",
    "outputId": "88d70e42-7063-42b7-a361-1f21f3382af4"
   },
   "outputs": [
    {
     "name": "stdout",
     "output_type": "stream",
     "text": [
      "<class 'pandas.core.frame.DataFrame'>\n",
      "RangeIndex: 2293 entries, 0 to 2292\n",
      "Data columns (total 10 columns):\n",
      " #   Column           Non-Null Count  Dtype  \n",
      "---  ------           --------------  -----  \n",
      " 0   ph               2293 non-null   float64\n",
      " 1   Hardness         2293 non-null   float64\n",
      " 2   Solids           2293 non-null   float64\n",
      " 3   Chloramines      2293 non-null   float64\n",
      " 4   Sulfate          2293 non-null   float64\n",
      " 5   Conductivity     2293 non-null   float64\n",
      " 6   Organic_carbon   2293 non-null   float64\n",
      " 7   Trihalomethanes  2293 non-null   float64\n",
      " 8   Turbidity        2293 non-null   float64\n",
      " 9   Potability       2293 non-null   int64  \n",
      "dtypes: float64(9), int64(1)\n",
      "memory usage: 179.3 KB\n"
     ]
    }
   ],
   "source": [
    "df.info()"
   ]
  },
  {
   "cell_type": "code",
   "execution_count": 8,
   "metadata": {
    "id": "w7mNrWppzfW4"
   },
   "outputs": [],
   "source": [
    "# Input/independent variables\n",
    "X = df.drop('Potability', axis = 1)   # here we are dropping the Target feature as this is the target and 'X' is input features, the changes are not \n",
    "y = df['Potability']             # Output/Dependent variable"
   ]
  },
  {
   "cell_type": "code",
   "execution_count": 9,
   "metadata": {},
   "outputs": [
    {
     "data": {
      "text/html": [
       "<div>\n",
       "<style scoped>\n",
       "    .dataframe tbody tr th:only-of-type {\n",
       "        vertical-align: middle;\n",
       "    }\n",
       "\n",
       "    .dataframe tbody tr th {\n",
       "        vertical-align: top;\n",
       "    }\n",
       "\n",
       "    .dataframe thead th {\n",
       "        text-align: right;\n",
       "    }\n",
       "</style>\n",
       "<table border=\"1\" class=\"dataframe\">\n",
       "  <thead>\n",
       "    <tr style=\"text-align: right;\">\n",
       "      <th></th>\n",
       "      <th>ph</th>\n",
       "      <th>Hardness</th>\n",
       "      <th>Solids</th>\n",
       "      <th>Chloramines</th>\n",
       "      <th>Sulfate</th>\n",
       "      <th>Conductivity</th>\n",
       "      <th>Organic_carbon</th>\n",
       "      <th>Trihalomethanes</th>\n",
       "      <th>Turbidity</th>\n",
       "    </tr>\n",
       "  </thead>\n",
       "  <tbody>\n",
       "    <tr>\n",
       "      <th>count</th>\n",
       "      <td>2293.000000</td>\n",
       "      <td>2293.000000</td>\n",
       "      <td>2293.000000</td>\n",
       "      <td>2293.000000</td>\n",
       "      <td>2293.000000</td>\n",
       "      <td>2293.000000</td>\n",
       "      <td>2293.000000</td>\n",
       "      <td>2293.000000</td>\n",
       "      <td>2293.000000</td>\n",
       "    </tr>\n",
       "    <tr>\n",
       "      <th>mean</th>\n",
       "      <td>7.082265</td>\n",
       "      <td>196.390335</td>\n",
       "      <td>22074.335334</td>\n",
       "      <td>7.132987</td>\n",
       "      <td>333.393347</td>\n",
       "      <td>425.455702</td>\n",
       "      <td>14.229174</td>\n",
       "      <td>66.499518</td>\n",
       "      <td>3.967153</td>\n",
       "    </tr>\n",
       "    <tr>\n",
       "      <th>std</th>\n",
       "      <td>1.486029</td>\n",
       "      <td>32.460633</td>\n",
       "      <td>8668.693908</td>\n",
       "      <td>1.573879</td>\n",
       "      <td>36.116271</td>\n",
       "      <td>80.266652</td>\n",
       "      <td>3.341429</td>\n",
       "      <td>16.067742</td>\n",
       "      <td>0.788480</td>\n",
       "    </tr>\n",
       "    <tr>\n",
       "      <th>min</th>\n",
       "      <td>0.000000</td>\n",
       "      <td>47.432000</td>\n",
       "      <td>320.942611</td>\n",
       "      <td>0.530351</td>\n",
       "      <td>180.206746</td>\n",
       "      <td>201.619737</td>\n",
       "      <td>2.200000</td>\n",
       "      <td>0.738000</td>\n",
       "      <td>1.450000</td>\n",
       "    </tr>\n",
       "    <tr>\n",
       "      <th>25%</th>\n",
       "      <td>6.262799</td>\n",
       "      <td>176.753500</td>\n",
       "      <td>15825.182571</td>\n",
       "      <td>6.140033</td>\n",
       "      <td>316.552791</td>\n",
       "      <td>363.974060</td>\n",
       "      <td>12.015868</td>\n",
       "      <td>56.329076</td>\n",
       "      <td>3.440753</td>\n",
       "    </tr>\n",
       "    <tr>\n",
       "      <th>50%</th>\n",
       "      <td>7.080795</td>\n",
       "      <td>196.833001</td>\n",
       "      <td>21153.322827</td>\n",
       "      <td>7.135063</td>\n",
       "      <td>333.775777</td>\n",
       "      <td>420.828362</td>\n",
       "      <td>14.151538</td>\n",
       "      <td>66.396293</td>\n",
       "      <td>3.947138</td>\n",
       "    </tr>\n",
       "    <tr>\n",
       "      <th>75%</th>\n",
       "      <td>7.873272</td>\n",
       "      <td>216.441172</td>\n",
       "      <td>27345.174288</td>\n",
       "      <td>8.104498</td>\n",
       "      <td>349.985243</td>\n",
       "      <td>480.715208</td>\n",
       "      <td>16.450990</td>\n",
       "      <td>77.182622</td>\n",
       "      <td>4.503661</td>\n",
       "    </tr>\n",
       "    <tr>\n",
       "      <th>max</th>\n",
       "      <td>14.000000</td>\n",
       "      <td>317.338124</td>\n",
       "      <td>56351.396304</td>\n",
       "      <td>13.043806</td>\n",
       "      <td>481.030642</td>\n",
       "      <td>753.342620</td>\n",
       "      <td>28.300000</td>\n",
       "      <td>124.000000</td>\n",
       "      <td>6.739000</td>\n",
       "    </tr>\n",
       "  </tbody>\n",
       "</table>\n",
       "</div>"
      ],
      "text/plain": [
       "                ph     Hardness        Solids  Chloramines      Sulfate  \\\n",
       "count  2293.000000  2293.000000   2293.000000  2293.000000  2293.000000   \n",
       "mean      7.082265   196.390335  22074.335334     7.132987   333.393347   \n",
       "std       1.486029    32.460633   8668.693908     1.573879    36.116271   \n",
       "min       0.000000    47.432000    320.942611     0.530351   180.206746   \n",
       "25%       6.262799   176.753500  15825.182571     6.140033   316.552791   \n",
       "50%       7.080795   196.833001  21153.322827     7.135063   333.775777   \n",
       "75%       7.873272   216.441172  27345.174288     8.104498   349.985243   \n",
       "max      14.000000   317.338124  56351.396304    13.043806   481.030642   \n",
       "\n",
       "       Conductivity  Organic_carbon  Trihalomethanes    Turbidity  \n",
       "count   2293.000000     2293.000000      2293.000000  2293.000000  \n",
       "mean     425.455702       14.229174        66.499518     3.967153  \n",
       "std       80.266652        3.341429        16.067742     0.788480  \n",
       "min      201.619737        2.200000         0.738000     1.450000  \n",
       "25%      363.974060       12.015868        56.329076     3.440753  \n",
       "50%      420.828362       14.151538        66.396293     3.947138  \n",
       "75%      480.715208       16.450990        77.182622     4.503661  \n",
       "max      753.342620       28.300000       124.000000     6.739000  "
      ]
     },
     "execution_count": 9,
     "metadata": {},
     "output_type": "execute_result"
    }
   ],
   "source": [
    "X.describe()"
   ]
  },
  {
   "cell_type": "code",
   "execution_count": 10,
   "metadata": {},
   "outputs": [
    {
     "data": {
      "text/plain": [
       "count    2293.000000\n",
       "mean        0.390318\n",
       "std         0.487928\n",
       "min         0.000000\n",
       "25%         0.000000\n",
       "50%         0.000000\n",
       "75%         1.000000\n",
       "max         1.000000\n",
       "Name: Potability, dtype: float64"
      ]
     },
     "execution_count": 10,
     "metadata": {},
     "output_type": "execute_result"
    }
   ],
   "source": [
    "y.describe()"
   ]
  },
  {
   "cell_type": "code",
   "execution_count": 11,
   "metadata": {},
   "outputs": [
    {
     "data": {
      "text/plain": [
       "[<matplotlib.lines.Line2D at 0x1b0a9b95270>]"
      ]
     },
     "execution_count": 11,
     "metadata": {},
     "output_type": "execute_result"
    },
    {
     "data": {
      "image/png": "[encoded data removed]",
      "text/plain": [
       "<Figure size 432x288 with 1 Axes>"
      ]
     },
     "metadata": {
      "needs_background": "light"
     },
     "output_type": "display_data"
    }
   ],
   "source": [
    "plt.plot(df.loc[y== 0, 'Conductivity'].to_list(),df.loc[y== 0, 'Hardness'].to_list(),'.',color='r',markersize=1)\n",
    "plt.plot(df.loc[y== 1, 'Conductivity'].to_list(),df.loc[y== 1, 'Hardness'].to_list(),'.',markersize=1)"
   ]
  },
  {
   "cell_type": "code",
   "execution_count": 12,
   "metadata": {},
   "outputs": [],
   "source": [
    "xtrain,xtest,ytrain,ytest = train_test_split(X,y,test_size=0.2, random_state=1)"
   ]
  },
  {
   "cell_type": "code",
   "execution_count": 13,
   "metadata": {},
   "outputs": [],
   "source": [
    "sc=StandardScaler()\n",
    "xtrain=sc.fit_transform(xtrain)\n",
    "xtest =sc.transform(xtest)"
   ]
  },
  {
   "cell_type": "code",
   "execution_count": 14,
   "metadata": {},
   "outputs": [
    {
     "name": "stdout",
     "output_type": "stream",
     "text": [
      "(1834, 9) (459, 9)\n"
     ]
    }
   ],
   "source": [
    "print(np.shape(xtrain),np.shape(xtest))"
   ]
  },
  {
   "cell_type": "markdown",
   "metadata": {},
   "source": [
    "# Fitting the model"
   ]
  },
  {
   "cell_type": "code",
   "execution_count": 15,
   "metadata": {},
   "outputs": [
    {
     "name": "stdout",
     "output_type": "stream",
     "text": [
      "0.5947712418300654\n"
     ]
    }
   ],
   "source": [
    "classifier=DecisionTreeClassifier()\n",
    "classifier.fit(xtrain,ytrain)\n",
    "ypredicted=classifier.predict(xtest)\n",
    "from sklearn.metrics import * \n",
    "print(accuracy_score(ypredicted,ytest))"
   ]
  },
  {
   "cell_type": "code",
   "execution_count": 16,
   "metadata": {},
   "outputs": [
    {
     "data": {
      "text/plain": [
       "0.7124183006535948"
      ]
     },
     "execution_count": 16,
     "metadata": {},
     "output_type": "execute_result"
    }
   ],
   "source": [
    "from sklearn.svm import SVC\n",
    "SVCClf = SVC(kernel = 'rbf',gamma = 'scale', shrinking = False,)\n",
    "SVCClf.fit(xtrain, ytrain)\n",
    "ypredicted= SVCClf.predict(xtest)\n",
    "accuracy_score(ypredicted,ytest)"
   ]
  },
  {
   "cell_type": "code",
   "execution_count": 17,
   "metadata": {},
   "outputs": [
    {
     "data": {
      "text/plain": [
       "0.6122004357298475"
      ]
     },
     "execution_count": 17,
     "metadata": {},
     "output_type": "execute_result"
    }
   ],
   "source": [
    "from sklearn.linear_model import LogisticRegression\n",
    "logreg=LogisticRegression(random_state=0).fit(xtrain, ytrain)\n",
    "ypredicted=logreg.predict(xtest)\n",
    "accuracy_score(ypredicted,ytest)"
   ]
  },
  {
   "cell_type": "code",
   "execution_count": 18,
   "metadata": {},
   "outputs": [
    {
     "data": {
      "text/plain": [
       "0.6797385620915033"
      ]
     },
     "execution_count": 18,
     "metadata": {},
     "output_type": "execute_result"
    }
   ],
   "source": [
    "from sklearn.neighbors import KNeighborsClassifier\n",
    "neigh = KNeighborsClassifier(n_neighbors=23)\n",
    "neigh.fit(xtrain, ytrain)\n",
    "ypredicted= neigh.predict(xtest)\n",
    "accuracy_score(ypredicted,ytest)"
   ]
  },
  {
   "cell_type": "code",
   "execution_count": null,
   "metadata": {},
   "outputs": [],
   "source": [
    "from sklearn.model_selection import GridSearchCV\n",
    " \n",
    "param_grid = {'C': np.arange(0.5,1.5,0.01),\n",
    "              'gamma': ['scale'],\n",
    "              'kernel': ['rbf']}\n",
    " \n",
    "grid = GridSearchCV(SVC(), param_grid, refit = True);\n",
    " \n",
    "# fitting the model for grid search\n",
    "grid.fit(xtrain, ytrain);\n",
    "accuracy_score(grid.predict(xtest),ytest)\n",
    "#print(classification_report(ytest,grid.predict(xtest)))"
   ]
  },
  {
   "cell_type": "code",
   "execution_count": 20,
   "metadata": {
    "scrolled": true
   },
   "outputs": [
    {
     "data": {
      "text/plain": [
       "'\\nfor i in range(1,100):\\n    clf = RandomForestClassifier(max_depth=i, random_state=1)\\n    clf.fit(xtrain, ytrain)\\n    acc.append(accuracy_score(clf.predict(xtest),ytest))\\n'"
      ]
     },
     "execution_count": 20,
     "metadata": {},
     "output_type": "execute_result"
    }
   ],
   "source": [
    "from sklearn.ensemble import RandomForestClassifier\n",
    "from sklearn.datasets import make_classification\n",
    "acc=[]\n",
    "'''\n",
    "for i in range(1,100):\n",
    "    clf = RandomForestClassifier(max_depth=i, random_state=1)\n",
    "    clf.fit(xtrain, ytrain)\n",
    "    acc.append(accuracy_score(clf.predict(xtest),ytest))\n",
    "'''\n"
   ]
  },
  {
   "cell_type": "code",
   "execution_count": 22,
   "metadata": {},
   "outputs": [
    {
     "name": "stdout",
     "output_type": "stream",
     "text": [
      "              precision    recall  f1-score   support\n",
      "\n",
      "           0       0.91      0.71      0.80       361\n",
      "           1       0.41      0.76      0.53        98\n",
      "\n",
      "    accuracy                           0.72       459\n",
      "   macro avg       0.66      0.73      0.67       459\n",
      "weighted avg       0.81      0.72      0.74       459\n",
      "\n"
     ]
    },
    {
     "data": {
      "text/plain": [
       "0.7189542483660131"
      ]
     },
     "execution_count": 22,
     "metadata": {},
     "output_type": "execute_result"
    }
   ],
   "source": [
    "clf = RandomForestClassifier(max_depth=18, random_state=1)\n",
    "clf.fit(xtrain, ytrain)\n",
    "print(classification_report(clf.predict(xtest),ytest))\n",
    "accuracy_score(clf.predict(xtest),ytest)"
   ]
  },
  {
   "cell_type": "code",
   "execution_count": 41,
   "metadata": {
    "scrolled": false
   },
   "outputs": [
    {
     "name": "stdout",
     "output_type": "stream",
     "text": [
      "[1 0 0 ... 0 1 1]\n"
     ]
    }
   ],
   "source": [
    "test=pd.read_csv(\"test_dataset.csv\")\n",
    "test.head()\n",
    "\n"
   ]
  },
  {
   "cell_type": "code",
   "execution_count": null,
   "metadata": {},
   "outputs": [],
   "source": []
  }
 ],
 "metadata": {
  "colab": {
   "collapsed_sections": [],
   "name": "Data_Sprint_85_Water_Potability_Prediction.ipynb",
   "provenance": []
  },
  "kernelspec": {
   "display_name": "Python 3 (ipykernel)",
   "language": "python",
   "name": "python3"
  },
  "language_info": {
   "codemirror_mode": {
    "name": "ipython",
    "version": 3
   },
   "file_extension": ".py",
   "mimetype": "text/x-python",
   "name": "python",
   "nbconvert_exporter": "python",
   "pygments_lexer": "ipython3",
   "version": "3.10.5"
  }
 },
 "nbformat": 4,
 "nbformat_minor": 1
}
